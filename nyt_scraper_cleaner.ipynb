{
 "cells": [
  {
   "cell_type": "code",
   "execution_count": 1,
   "metadata": {},
   "outputs": [],
   "source": [
    "from bs4 import BeautifulSoup\n",
    "import requests\n",
    "import os\n",
    "import datetime\n",
    "import pandas as pd"
   ]
  },
  {
   "cell_type": "code",
   "execution_count": 2,
   "metadata": {},
   "outputs": [],
   "source": [
    "filepath = os.path.join(\"Resources/See Which States and Cities Have Told Residents to Stay at Home - The New York Times.html\")\n",
    "with open(filepath, encoding='utf-8') as file:\n",
    "    html = file.read()"
   ]
  },
  {
   "cell_type": "code",
   "execution_count": 3,
   "metadata": {},
   "outputs": [],
   "source": [
    "soup = BeautifulSoup(html, 'html.parser')"
   ]
  },
  {
   "cell_type": "code",
   "execution_count": 4,
   "metadata": {},
   "outputs": [
    {
     "name": "stdout",
     "output_type": "stream",
     "text": [
      "<h3>Alabama <span class=\"l-population\">About 4.9 million people</span></h3>\n"
     ]
    },
    {
     "data": {
      "text/plain": [
       "47"
      ]
     },
     "execution_count": 4,
     "metadata": {},
     "output_type": "execute_result"
    }
   ],
   "source": [
    "\n",
    "#Grabbing the states from the article.\n",
    "\n",
    "States = soup.select('div.state-wrap > h3')\n",
    "print(States[0])\n",
    "len(States)"
   ]
  },
  {
   "cell_type": "code",
   "execution_count": 5,
   "metadata": {
    "scrolled": true
   },
   "outputs": [
    {
     "name": "stdout",
     "output_type": "stream",
     "text": [
      "Alabama \n",
      "Alaska \n",
      "Arizona \n",
      "California \n",
      "Colorado \n",
      "Connecticut \n",
      "Delaware \n",
      "District of Columbia \n",
      "Florida \n",
      "Georgia \n",
      "Hawaii \n",
      "Idaho \n",
      "Illinois \n",
      "Indiana \n",
      "Kansas \n",
      "Kentucky \n",
      "Louisiana \n",
      "Maine \n",
      "Maryland \n",
      "Massachusetts \n",
      "Michigan \n",
      "Minnesota \n",
      "Mississippi \n",
      "Missouri \n",
      "Montana \n",
      "Nevada \n",
      "New Hampshire \n",
      "New Jersey \n",
      "New Mexico \n",
      "New York \n",
      "North Carolina \n",
      "Ohio \n",
      "Oklahoma\n",
      "Oregon \n",
      "Pennsylvania \n",
      "Puerto Rico \n",
      "Rhode Island \n",
      "South Carolina \n",
      "Tennessee \n",
      "Texas \n",
      "Utah\n",
      "Vermont \n",
      "Virginia \n",
      "Washington \n",
      "West Virginia \n",
      "Wisconsin \n",
      "Wyoming\n"
     ]
    }
   ],
   "source": [
    "\n",
    "#Stripping down to just the states.\n",
    "\n",
    "states = []\n",
    "for state in States:\n",
    "    #print(state.contents[0])\n",
    "    states.append(state.contents[0])"
   ]
  },
  {
   "cell_type": "code",
   "execution_count": 6,
   "metadata": {},
   "outputs": [
    {
     "name": "stdout",
     "output_type": "stream",
     "text": [
      "<p class=\"l-order\">Stay at home<span class=\"l-date\">, effective April 4 at 5 p.m.</span></p>\n"
     ]
    }
   ],
   "source": [
    "'''\n",
    "Grabbing the orders and dates from the article.\n",
    "orders being: [stay at home, shelter in-place, etc.]\n",
    "'''\n",
    "Orders = soup.select('div.place-wrap > p.l-order')\n",
    "print(Orders[0])"
   ]
  },
  {
   "cell_type": "code",
   "execution_count": 7,
   "metadata": {},
   "outputs": [
    {
     "name": "stdout",
     "output_type": "stream",
     "text": [
      "Stay at home\n",
      "<span class=\"l-date\">, effective April 4 at 5 p.m.</span>\n",
      "Stay at home\n",
      "<span class=\"l-date\">, effective March 28 at 5 p.m.</span>\n",
      "Stay at home\n",
      "<span class=\"l-date\">, effective March 31 at 5 p.m.</span>\n",
      "Stay at home\n",
      "<span class=\"l-date\">, effective March 19</span>\n",
      "Stay at home\n",
      "<span class=\"l-date\">, effective March 26 at 6 a.m.</span>\n",
      "Stay at home\n",
      "<span class=\"l-date\">, effective March 23 at 8 p.m.</span>\n",
      "Shelter in place\n",
      "<span class=\"l-date\">, effective March 24 at 8 a.m.</span>\n",
      "Stay at home\n",
      "<span class=\"l-date\">, effective April 1 at 12:01 a.m.</span>\n",
      "Stay at home\n",
      "<span class=\"l-date\">, effective April 3 at 12:01 a.m.</span>\n",
      "Shelter in place\n",
      "<span class=\"l-date\">, effective April 3</span>\n",
      "Stay at home\n",
      "<span class=\"l-date\">, effective March 25 at 12:01 a.m.</span>\n",
      "Stay at home\n",
      "<span class=\"l-date\">, effective March 25 at 1:30 p.m.</span>\n",
      "Stay at home\n",
      "<span class=\"l-date\">, effective March 21 at 5 p.m.</span>\n",
      "Stay at home\n",
      "<span class=\"l-date\">, effective March 24 at 11:59 p.m.</span>\n",
      "Stay at home\n",
      "<span class=\"l-date\">, effective March 30 at 12:01 a.m.</span>\n",
      "Healthy at home\n",
      "<span class=\"l-date\">, effective March 26 at 8 p.m.</span>\n",
      "Stay at home\n",
      "<span class=\"l-date\">, effective March 23 at 5 p.m.</span>\n",
      "Stay at home\n",
      "<span class=\"l-date\">, effective April 2 at 12:01 a.m.</span>\n",
      "Stay at home\n",
      "<span class=\"l-date\">, effective March 30 at 8 p.m.</span>\n",
      "Stay at home advisory\n",
      "<span class=\"l-date\">, effective March 24 at 12 p.m.</span>\n",
      "Stay at home\n",
      "<span class=\"l-date\">, effective March 24 at 12:01 a.m.</span>\n",
      "Stay at home\n",
      "<span class=\"l-date\">, effective March 27 at 11:59 p.m.</span>\n",
      "Shelter in place\n",
      "<span class=\"l-date\">, effective April 3 at 5 p.m.</span>\n",
      "Stay at home\n",
      "<span class=\"l-date\">, effective April 6 at 12:01 a.m.</span>\n",
      "Stay at home\n",
      "<span class=\"l-date\">, effective March 28 at 12:01 a.m.</span>\n",
      "Stay at home\n",
      "<span class=\"l-date\">, effective April 1</span>\n",
      "Stay at home\n",
      "<span class=\"l-date\">, effective March 27 at 11:59 p.m.</span>\n",
      "Stay at home\n",
      "<span class=\"l-date\">, effective March 21 at 9 p.m.</span>\n",
      "Stay at home\n",
      "<span class=\"l-date\">, effective March 24 at 8 a.m.</span>\n",
      "Stay at home\n",
      "<span class=\"l-date\">, effective March 22 at 8 p.m.</span>\n",
      "Stay at home\n",
      "<span class=\"l-date\">, effective March 30 at 5 p.m.</span>\n",
      "Stay at home\n",
      "<span class=\"l-date\">, effective March 23 at 11:59 pm.</span>\n",
      "Shelter in place\n",
      "<span class=\"l-date\">, effective April 6 at 11:59 p.m.</span>\n",
      "Stay at home\n",
      "<span class=\"l-date\">, effective April 6 at 8 a.m.</span>\n",
      "Shelter in place\n",
      "<span class=\"l-date\">, effective March 30 at 11:59 p.m.</span>\n",
      "Shelter in place\n",
      "<span class=\"l-date\">, effective April 4 at 11:59 p.m.</span>\n",
      "Stay at home\n",
      "<span class=\"l-date\">, effective March 25 at 11:59 p.m.</span>\n",
      "Shelter in place\n",
      "<span class=\"l-date\">, effective March 28 at 11:59 p.m.</span>\n",
      "Shelter in place\n",
      "<span class=\"l-date\">, effective April 4 at 11:59 p.m.</span>\n",
      "Shelter in place\n",
      "<span class=\"l-date\">, effective March 30 at 11:59 p.m.</span>\n",
      "Shelter in place\n",
      "<span class=\"l-date\">, effective March 28 at 11:59 p.m.</span>\n",
      "Stay at home\n",
      "<span class=\"l-date\">, effective March 23</span>\n",
      "Stay at home\n",
      "<span class=\"l-date\">, effective April 1 at 8 p.m.</span>\n",
      "Curfew\n",
      "<span class=\"l-date\">, effective March 15 at 6 p.m.</span>\n",
      "Stay at home\n",
      "<span class=\"l-date\">, effective March 28</span>\n",
      "Stay at home \n",
      "<span class=\"l-date\">, effective April 7 at 5 p.m.</span>\n",
      "Stay at home\n",
      "<span class=\"l-date\">, effective March 31 at 11:59 p.m.</span>\n",
      "Stay at home\n",
      "<span class=\"l-date\">, effective April 2 at 12:01 a.m.</span>\n",
      "Stay at home\n",
      "<span class=\"l-date\">, effective April 1 at 11:59 p.m.</span>\n",
      "Stay at home\n",
      "<span class=\"l-date\">, effective March 30 at 12:01 a.m.</span>\n",
      "Stay at home\n",
      "<span class=\"l-date\">, effective March 27 at 12:01 a.m.</span>\n",
      "Stay at home\n",
      "<span class=\"l-date\">, effective March 25 at 5 p.m.</span>\n",
      "Stay at home\n",
      "<span class=\"l-date\">, effective March 30</span>\n",
      "Stay at home\n",
      "<span class=\"l-date\">, effective March 23</span>\n",
      "Stay at home\n",
      "<span class=\"l-date\">, effective March 24 at 8 p.m.</span>\n",
      "Stay at home\n",
      "<span class=\"l-date\">, effective March 25 at 8 a.m.</span>\n",
      "Stay at home\n",
      "<span class=\"l-date\">, effective March 28</span>\n"
     ]
    }
   ],
   "source": [
    "\n",
    "#Putting orders and dates in separate lists: [order_type, effective_date_dirty]\n",
    "\n",
    "order_type = []\n",
    "effective_date_dirty = []\n",
    "for order in Orders:\n",
    "    #print(order.contents[0])\n",
    "    #print(order.contents[1])\n",
    "    order_type.append(order.contents[0])\n",
    "    effective_date_dirty.append(order.contents[1])"
   ]
  },
  {
   "cell_type": "code",
   "execution_count": 8,
   "metadata": {},
   "outputs": [
    {
     "data": {
      "text/plain": [
       "[<span class=\"l-date\">, effective April 4 at 5 p.m.</span>,\n",
       " <span class=\"l-date\">, effective March 28 at 5 p.m.</span>,\n",
       " <span class=\"l-date\">, effective March 31 at 5 p.m.</span>,\n",
       " <span class=\"l-date\">, effective March 19</span>,\n",
       " <span class=\"l-date\">, effective March 26 at 6 a.m.</span>,\n",
       " <span class=\"l-date\">, effective March 23 at 8 p.m.</span>,\n",
       " <span class=\"l-date\">, effective March 24 at 8 a.m.</span>,\n",
       " <span class=\"l-date\">, effective April 1 at 12:01 a.m.</span>,\n",
       " <span class=\"l-date\">, effective April 3 at 12:01 a.m.</span>,\n",
       " <span class=\"l-date\">, effective April 3</span>]"
      ]
     },
     "execution_count": 8,
     "metadata": {},
     "output_type": "execute_result"
    }
   ],
   "source": [
    "#Up next is a whole lot of trying to get the dates in the right format to store.\n",
    "\n",
    "effective_date_dirty[0:10]"
   ]
  },
  {
   "cell_type": "code",
   "execution_count": 9,
   "metadata": {},
   "outputs": [],
   "source": [
    "'''\n",
    "Started by making a list:(kinda_dirty_dates) that removes the html tags from the entries.\n",
    "From that list, I made another list:(kinda_dirty) that removes all the extra text.\n",
    "--All od the kinda_dirty elements are str.\n",
    "'''\n",
    "kinda_dirty_dates = []\n",
    "\n",
    "for stuff in effective_date_dirty:\n",
    "    kinda_dirty_dates.append(stuff.contents[0])\n",
    "    kinda_dirty = [kinda.split(', effective ', 1)[1] for kinda in kinda_dirty_dates]\n",
    "    kinda_dirty = [kinda.split(' at',2)[0] for kinda in kinda_dirty]"
   ]
  },
  {
   "cell_type": "code",
   "execution_count": 37,
   "metadata": {},
   "outputs": [
    {
     "data": {
      "text/plain": [
       "[', effective April 4 at 5 p.m.',\n",
       " ', effective March 28 at 5 p.m.',\n",
       " ', effective March 31 at 5 p.m.',\n",
       " ', effective March 19',\n",
       " ', effective March 26 at 6 a.m.',\n",
       " ', effective March 23 at 8 p.m.',\n",
       " ', effective March 24 at 8 a.m.',\n",
       " ', effective April 1 at 12:01 a.m.',\n",
       " ', effective April 3 at 12:01 a.m.',\n",
       " ', effective April 3']"
      ]
     },
     "execution_count": 37,
     "metadata": {},
     "output_type": "execute_result"
    }
   ],
   "source": [
    "kinda_dirty_dates[0:10]"
   ]
  },
  {
   "cell_type": "code",
   "execution_count": 38,
   "metadata": {},
   "outputs": [
    {
     "data": {
      "text/plain": [
       "['April 4, 2020',\n",
       " 'March 28, 2020',\n",
       " 'March 31, 2020',\n",
       " 'March 19, 2020',\n",
       " 'March 26, 2020',\n",
       " 'March 23, 2020',\n",
       " 'March 24, 2020',\n",
       " 'April 1, 2020',\n",
       " 'April 3, 2020',\n",
       " 'April 3, 2020']"
      ]
     },
     "execution_count": 38,
     "metadata": {},
     "output_type": "execute_result"
    }
   ],
   "source": [
    "kinda_dirty[0:10]"
   ]
  },
  {
   "cell_type": "code",
   "execution_count": 12,
   "metadata": {
    "scrolled": true
   },
   "outputs": [],
   "source": [
    "\n",
    "#Just adding the year to each date in kinda_dirty. \n",
    "\n",
    "year = ', 2020'\n",
    "kinda_dirty = [dirt + year for dirt in kinda_dirty]"
   ]
  },
  {
   "cell_type": "code",
   "execution_count": 13,
   "metadata": {},
   "outputs": [],
   "source": [
    "#Creating the list:(clean_dates) that stores all the dates as datetime objects.\n",
    "\n",
    "clean_dates = []\n",
    "for dates in kinda_dirty:\n",
    "    datetime_object = datetime.datetime.strptime(dates,'%B %d, %Y')\n",
    "    clean_dates.append(datetime_object)"
   ]
  },
  {
   "cell_type": "code",
   "execution_count": 14,
   "metadata": {},
   "outputs": [],
   "source": [
    "clean_dates[0:10]"
   ]
  },
  {
   "cell_type": "code",
   "execution_count": 15,
   "metadata": {},
   "outputs": [
    {
     "name": "stdout",
     "output_type": "stream",
     "text": [
      "List Counts\n",
      "States: 47\n",
      "Clean Dates: 57\n",
      "Order Type: 57\n"
     ]
    }
   ],
   "source": [
    "'''\n",
    "Now that I have lists of the states, dates, and quarantine order type\n",
    "I can check to see if they'll fit nicely into a dictionary.\n",
    "'''\n",
    "print(f'''List Counts\n",
    "States: {len(states)}\n",
    "Clean Dates: {len(clean_dates)}\n",
    "Order Type: {len(order_type)}''')"
   ]
  },
  {
   "cell_type": "code",
   "execution_count": 16,
   "metadata": {},
   "outputs": [
    {
     "name": "stdout",
     "output_type": "stream",
     "text": [
      "Index by State\n",
      "Oklahoma: 32\n",
      "Utah: 40\n",
      "Wyoming: 46\n"
     ]
    }
   ],
   "source": [
    "'''\n",
    "Since I have 47 states vs. 57 dates and orders, there's obviously a problem.\n",
    "Each state has a different statewide quarantine date except Oklahoma, Utah, and Wyoming.\n",
    "These states have had different counties, towns, and cities issue their orders at different times.\n",
    "Using the webpage as a reference I locate the outlying dates and assign the latest date for each state\n",
    "    as that state's closing date.\n",
    "    The logic here being you're only as strong as your weakest link in terms of positive covid-case count.\n",
    "'''\n",
    "print(f'''Index by State\n",
    "Oklahoma: {states.index(\"Oklahoma\")}\n",
    "Utah: {states.index(\"Utah\")}\n",
    "Wyoming: {states.index(\"Wyoming\")}''')"
   ]
  },
  {
   "cell_type": "code",
   "execution_count": 17,
   "metadata": {},
   "outputs": [],
   "source": [
    "Oklahoma_date = max(clean_dates[32:41]) #Nine counties in Oklahoma. "
   ]
  },
  {
   "cell_type": "code",
   "execution_count": 18,
   "metadata": {},
   "outputs": [],
   "source": [
    "#clean_dates[32:41]  #########Above and below i'm just grabbing the latest date of quarantine start \n",
    "                        ######for each state"
   ]
  },
  {
   "cell_type": "code",
   "execution_count": 19,
   "metadata": {},
   "outputs": [],
   "source": [
    "Utah_date = max(clean_dates[48:51]) #Just three in Utah"
   ]
  },
  {
   "cell_type": "code",
   "execution_count": 20,
   "metadata": {},
   "outputs": [],
   "source": [
    "#clean_dates[48:51]\n",
    "unwanted = range(48, 51)\n",
    "RLY_unwanted = range(32, 41)"
   ]
  },
  {
   "cell_type": "code",
   "execution_count": 21,
   "metadata": {},
   "outputs": [],
   "source": [
    "for i in sorted(unwanted, reverse = True):\n",
    "  del clean_dates[i]\n",
    "  del order_type[i]  "
   ]
  },
  {
   "cell_type": "code",
   "execution_count": 22,
   "metadata": {},
   "outputs": [],
   "source": [
    "for j in sorted(RLY_unwanted, reverse = True):\n",
    "    del clean_dates[j]\n",
    "    del order_type[j]"
   ]
  },
  {
   "cell_type": "code",
   "execution_count": 23,
   "metadata": {},
   "outputs": [
    {
     "name": "stdout",
     "output_type": "stream",
     "text": [
      "45\n",
      "45\n"
     ]
    }
   ],
   "source": [
    "print(f'''{len(clean_dates)}\n",
    "{len(order_type)}''')"
   ]
  },
  {
   "cell_type": "code",
   "execution_count": 24,
   "metadata": {},
   "outputs": [
    {
     "name": "stdout",
     "output_type": "stream",
     "text": [
      "\n"
     ]
    }
   ],
   "source": [
    "'''\n",
    "Now that we've removed the extra dates, we can reinsert the proper dates for Oklahoma and Utah.\n",
    "(We don't have to touch Wyoming since it's the last in the list)\n",
    "'''\n",
    "print('')"
   ]
  },
  {
   "cell_type": "code",
   "execution_count": 25,
   "metadata": {},
   "outputs": [],
   "source": [
    "clean_dates.insert(32, Oklahoma_date)"
   ]
  },
  {
   "cell_type": "code",
   "execution_count": 26,
   "metadata": {},
   "outputs": [
    {
     "data": {
      "text/plain": [
       "[datetime.datetime(2020, 3, 23, 0, 0),\n",
       " datetime.datetime(2020, 4, 6, 0, 0),\n",
       " datetime.datetime(2020, 3, 23, 0, 0)]"
      ]
     },
     "execution_count": 26,
     "metadata": {},
     "output_type": "execute_result"
    }
   ],
   "source": [
    "#Making Sure Ohio, Oklahoma, and Oregon dates match up to the webpage\n",
    "clean_dates[31:34]"
   ]
  },
  {
   "cell_type": "code",
   "execution_count": 27,
   "metadata": {},
   "outputs": [
    {
     "data": {
      "text/plain": [
       "46"
      ]
     },
     "execution_count": 27,
     "metadata": {},
     "output_type": "execute_result"
    }
   ],
   "source": [
    "len(clean_dates)"
   ]
  },
  {
   "cell_type": "code",
   "execution_count": 28,
   "metadata": {},
   "outputs": [],
   "source": [
    "clean_dates.insert(40, Utah_date)"
   ]
  },
  {
   "cell_type": "code",
   "execution_count": 29,
   "metadata": {},
   "outputs": [
    {
     "name": "stdout",
     "output_type": "stream",
     "text": [
      "Dates:47\n",
      "States:47\n",
      "Orders:45\n"
     ]
    }
   ],
   "source": [
    "print(f'''Dates:{len(clean_dates)}\n",
    "States:{len(states)}\n",
    "Orders:{len(order_type)}''')"
   ]
  },
  {
   "cell_type": "code",
   "execution_count": 30,
   "metadata": {},
   "outputs": [],
   "source": [
    "#Insert utah and oklahoma order types"
   ]
  },
  {
   "cell_type": "code",
   "execution_count": 31,
   "metadata": {},
   "outputs": [],
   "source": [
    "order_type.insert(32, \"Varying\") #this should be the same index as Oklahoma\n",
    "order_type.insert(40, \"Varying\") #and this one Utah"
   ]
  },
  {
   "cell_type": "code",
   "execution_count": 32,
   "metadata": {},
   "outputs": [
    {
     "name": "stdout",
     "output_type": "stream",
     "text": [
      "State    Order Type\n",
      "Oklahoma    Varying\n",
      "Utah        Varying\n"
     ]
    }
   ],
   "source": [
    "print(f'''State    Order Type\n",
    "{states[32]}    {order_type[32]}\n",
    "{states[40]}        {order_type[40]}''')"
   ]
  },
  {
   "cell_type": "code",
   "execution_count": 33,
   "metadata": {},
   "outputs": [
    {
     "name": "stdout",
     "output_type": "stream",
     "text": [
      "Dates:47\n",
      "States:47\n",
      "Orders:47\n"
     ]
    }
   ],
   "source": [
    "print(f'''Dates:{len(clean_dates)}\n",
    "States:{len(states)}\n",
    "Orders:{len(order_type)}''')"
   ]
  },
  {
   "cell_type": "code",
   "execution_count": 34,
   "metadata": {},
   "outputs": [],
   "source": [
    "#Now we're good to put everything into into a dataframe"
   ]
  },
  {
   "cell_type": "code",
   "execution_count": 35,
   "metadata": {},
   "outputs": [
    {
     "data": {
      "text/html": [
       "<div>\n",
       "<style scoped>\n",
       "    .dataframe tbody tr th:only-of-type {\n",
       "        vertical-align: middle;\n",
       "    }\n",
       "\n",
       "    .dataframe tbody tr th {\n",
       "        vertical-align: top;\n",
       "    }\n",
       "\n",
       "    .dataframe thead th {\n",
       "        text-align: right;\n",
       "    }\n",
       "</style>\n",
       "<table border=\"1\" class=\"dataframe\">\n",
       "  <thead>\n",
       "    <tr style=\"text-align: right;\">\n",
       "      <th></th>\n",
       "      <th>state</th>\n",
       "      <th>date</th>\n",
       "      <th>order_type</th>\n",
       "    </tr>\n",
       "  </thead>\n",
       "  <tbody>\n",
       "    <tr>\n",
       "      <th>0</th>\n",
       "      <td>Alabama</td>\n",
       "      <td>2020-04-04</td>\n",
       "      <td>Stay at home</td>\n",
       "    </tr>\n",
       "    <tr>\n",
       "      <th>1</th>\n",
       "      <td>Alaska</td>\n",
       "      <td>2020-03-28</td>\n",
       "      <td>Stay at home</td>\n",
       "    </tr>\n",
       "    <tr>\n",
       "      <th>2</th>\n",
       "      <td>Arizona</td>\n",
       "      <td>2020-03-31</td>\n",
       "      <td>Stay at home</td>\n",
       "    </tr>\n",
       "    <tr>\n",
       "      <th>3</th>\n",
       "      <td>California</td>\n",
       "      <td>2020-03-19</td>\n",
       "      <td>Stay at home</td>\n",
       "    </tr>\n",
       "    <tr>\n",
       "      <th>4</th>\n",
       "      <td>Colorado</td>\n",
       "      <td>2020-03-26</td>\n",
       "      <td>Stay at home</td>\n",
       "    </tr>\n",
       "  </tbody>\n",
       "</table>\n",
       "</div>"
      ],
      "text/plain": [
       "         state       date    order_type\n",
       "0     Alabama  2020-04-04  Stay at home\n",
       "1      Alaska  2020-03-28  Stay at home\n",
       "2     Arizona  2020-03-31  Stay at home\n",
       "3  California  2020-03-19  Stay at home\n",
       "4    Colorado  2020-03-26  Stay at home"
      ]
     },
     "execution_count": 35,
     "metadata": {},
     "output_type": "execute_result"
    }
   ],
   "source": [
    "df = pd.DataFrame(list(zip(states, clean_dates, order_type)), \n",
    "               columns =['state', 'date', 'order_type'])\n",
    "df.head()"
   ]
  },
  {
   "cell_type": "code",
   "execution_count": 36,
   "metadata": {},
   "outputs": [],
   "source": [
    "#df.to_csv('CSVs/Quarantine_Dates_By_State.csv', encoding='utf-8', index=False)"
   ]
  },
  {
   "cell_type": "code",
   "execution_count": null,
   "metadata": {},
   "outputs": [],
   "source": []
  }
 ],
 "metadata": {
  "kernelspec": {
   "display_name": "Python 3",
   "language": "python",
   "name": "python3"
  },
  "language_info": {
   "codemirror_mode": {
    "name": "ipython",
    "version": 3
   },
   "file_extension": ".py",
   "mimetype": "text/x-python",
   "name": "python",
   "nbconvert_exporter": "python",
   "pygments_lexer": "ipython3",
   "version": "3.7.6"
  }
 },
 "nbformat": 4,
 "nbformat_minor": 4
}